{
 "cells": [
  {
   "cell_type": "markdown",
   "id": "3d2e5ae9-8e66-4650-abc4-74741abc9a4e",
   "metadata": {},
   "source": [
    "Task\n",
    "In this challenge, you'll write Pandas code to report on the attention.csv dataset. Take a moment to familiarize yourself with the dataset.\n",
    "\n",
    "The three queries will be:\n",
    "\n",
    "Report how many times it is better to focus than to divide one's attention based on the average scores in the dataset. Return the resulting ratio.\n",
    "Report the solutions id with the highest average score.\n",
    "Report the top 10 subjects ranked by the score in descending order. If there are ties in the scores, the subjects should be sorted by subject ID in ascending order. Reset indexes before returning the report.\n",
    "Note: beware that a subject can appear more than once in the data.\n",
    "See the function documentation and test cases for further details.\n",
    "\n",
    "Rubric\n",
    "Your code will be evaluated on correctness foremost, established by passing the submission test cases. We're looking for clean, idiomatic Pandas and Python code among passing solutions.\n",
    "\n",
    "Resources\n",
    "You may use Python and Pandas documentation as you solve the challenge."
   ]
  },
  {
   "cell_type": "code",
   "execution_count": 2,
   "id": "4041ffba-14f7-4405-9913-d49d5931a61f",
   "metadata": {},
   "outputs": [],
   "source": [
    "import pandas as pd"
   ]
  },
  {
   "cell_type": "code",
   "execution_count": 3,
   "id": "906d29ae-47fa-4f75-992e-51f0368a769f",
   "metadata": {},
   "outputs": [],
   "source": [
    "link = \"https://raw.githubusercontent.com/mwaskom/seaborn-data/refs/heads/master/attention.csv\""
   ]
  },
  {
   "cell_type": "code",
   "execution_count": 4,
   "id": "9f22f363-2524-4571-8a8c-29f1c42a1d00",
   "metadata": {},
   "outputs": [],
   "source": [
    "df = pd.read_csv(link)"
   ]
  },
  {
   "cell_type": "code",
   "execution_count": 5,
   "id": "7fd7fd18-8b4e-4b47-b76f-bfc0e55d6132",
   "metadata": {},
   "outputs": [
    {
     "data": {
      "text/html": [
       "<div>\n",
       "<style scoped>\n",
       "    .dataframe tbody tr th:only-of-type {\n",
       "        vertical-align: middle;\n",
       "    }\n",
       "\n",
       "    .dataframe tbody tr th {\n",
       "        vertical-align: top;\n",
       "    }\n",
       "\n",
       "    .dataframe thead th {\n",
       "        text-align: right;\n",
       "    }\n",
       "</style>\n",
       "<table border=\"1\" class=\"dataframe\">\n",
       "  <thead>\n",
       "    <tr style=\"text-align: right;\">\n",
       "      <th></th>\n",
       "      <th>Unnamed: 0</th>\n",
       "      <th>subject</th>\n",
       "      <th>attention</th>\n",
       "      <th>solutions</th>\n",
       "      <th>score</th>\n",
       "    </tr>\n",
       "  </thead>\n",
       "  <tbody>\n",
       "    <tr>\n",
       "      <th>0</th>\n",
       "      <td>0</td>\n",
       "      <td>1</td>\n",
       "      <td>divided</td>\n",
       "      <td>1</td>\n",
       "      <td>2.0</td>\n",
       "    </tr>\n",
       "    <tr>\n",
       "      <th>1</th>\n",
       "      <td>1</td>\n",
       "      <td>2</td>\n",
       "      <td>divided</td>\n",
       "      <td>1</td>\n",
       "      <td>3.0</td>\n",
       "    </tr>\n",
       "    <tr>\n",
       "      <th>2</th>\n",
       "      <td>2</td>\n",
       "      <td>3</td>\n",
       "      <td>divided</td>\n",
       "      <td>1</td>\n",
       "      <td>3.0</td>\n",
       "    </tr>\n",
       "    <tr>\n",
       "      <th>3</th>\n",
       "      <td>3</td>\n",
       "      <td>4</td>\n",
       "      <td>divided</td>\n",
       "      <td>1</td>\n",
       "      <td>5.0</td>\n",
       "    </tr>\n",
       "    <tr>\n",
       "      <th>4</th>\n",
       "      <td>4</td>\n",
       "      <td>5</td>\n",
       "      <td>divided</td>\n",
       "      <td>1</td>\n",
       "      <td>4.0</td>\n",
       "    </tr>\n",
       "  </tbody>\n",
       "</table>\n",
       "</div>"
      ],
      "text/plain": [
       "   Unnamed: 0  subject attention  solutions  score\n",
       "0           0        1   divided          1    2.0\n",
       "1           1        2   divided          1    3.0\n",
       "2           2        3   divided          1    3.0\n",
       "3           3        4   divided          1    5.0\n",
       "4           4        5   divided          1    4.0"
      ]
     },
     "execution_count": 5,
     "metadata": {},
     "output_type": "execute_result"
    }
   ],
   "source": [
    "df.head()"
   ]
  },
  {
   "cell_type": "code",
   "execution_count": 6,
   "id": "9121b5c1-7fc4-42f3-af87-cb9d05481948",
   "metadata": {},
   "outputs": [],
   "source": [
    "#Report how many times it is better to focus than to divide one's attention based on the average scores in the dataset. Return the resulting ratio.\n"
   ]
  },
  {
   "cell_type": "code",
   "execution_count": 7,
   "id": "31b55494-1d88-486a-bdc6-13f441855024",
   "metadata": {},
   "outputs": [
    {
     "data": {
      "text/html": [
       "<div>\n",
       "<style scoped>\n",
       "    .dataframe tbody tr th:only-of-type {\n",
       "        vertical-align: middle;\n",
       "    }\n",
       "\n",
       "    .dataframe tbody tr th {\n",
       "        vertical-align: top;\n",
       "    }\n",
       "\n",
       "    .dataframe thead th {\n",
       "        text-align: right;\n",
       "    }\n",
       "</style>\n",
       "<table border=\"1\" class=\"dataframe\">\n",
       "  <thead>\n",
       "    <tr style=\"text-align: right;\">\n",
       "      <th></th>\n",
       "      <th>attention</th>\n",
       "      <th>mean</th>\n",
       "    </tr>\n",
       "  </thead>\n",
       "  <tbody>\n",
       "    <tr>\n",
       "      <th>0</th>\n",
       "      <td>divided</td>\n",
       "      <td>5.116667</td>\n",
       "    </tr>\n",
       "    <tr>\n",
       "      <th>1</th>\n",
       "      <td>focused</td>\n",
       "      <td>6.800000</td>\n",
       "    </tr>\n",
       "  </tbody>\n",
       "</table>\n",
       "</div>"
      ],
      "text/plain": [
       "  attention      mean\n",
       "0   divided  5.116667\n",
       "1   focused  6.800000"
      ]
     },
     "execution_count": 7,
     "metadata": {},
     "output_type": "execute_result"
    }
   ],
   "source": [
    "df_1 = df.groupby(\"attention\")[\"score\"].mean().reset_index(name=\"mean\")\n",
    "df_1"
   ]
  },
  {
   "cell_type": "code",
   "execution_count": 8,
   "id": "1064a934-bfd9-46c7-9277-da7ca981c0cf",
   "metadata": {},
   "outputs": [
    {
     "data": {
      "text/plain": [
       "1.3289902280130295"
      ]
     },
     "execution_count": 8,
     "metadata": {},
     "output_type": "execute_result"
    }
   ],
   "source": [
    "focused = df_1[df_1[\"attention\"] == \"focused\"][\"mean\"].values[0]\n",
    "divided = df_1[df_1[\"attention\"] == \"divided\"][\"mean\"].values[0]\n",
    "\n",
    "# Calculate the ratio\n",
    "ratio = focused / divided\n",
    "ratio"
   ]
  },
  {
   "cell_type": "markdown",
   "id": "9eb48d8f-a7f1-4167-a647-c69dfe66b1bd",
   "metadata": {},
   "source": [
    "DONE 1"
   ]
  },
  {
   "cell_type": "code",
   "execution_count": 10,
   "id": "6ec40efa-a037-4a75-b519-48154e3518a3",
   "metadata": {},
   "outputs": [],
   "source": [
    "#Report the solutions id with the highest average score."
   ]
  },
  {
   "cell_type": "code",
   "execution_count": 11,
   "id": "5785fd4a-27dc-46d6-9ca3-7c3316ae91c3",
   "metadata": {},
   "outputs": [],
   "source": [
    "df_2 = df.groupby(\"solutions\")[\"score\"].mean().reset_index(name=\"mean\").sort_values(\"mean\", ascending = False).values[0]\n"
   ]
  },
  {
   "cell_type": "code",
   "execution_count": 12,
   "id": "db38d6fc-0df8-4193-ac3b-62bcfc94f8d6",
   "metadata": {},
   "outputs": [
    {
     "data": {
      "text/plain": [
       "array([3.  , 6.55])"
      ]
     },
     "execution_count": 12,
     "metadata": {},
     "output_type": "execute_result"
    }
   ],
   "source": [
    "df_2"
   ]
  },
  {
   "cell_type": "markdown",
   "id": "b27cb080-68b0-404c-8b7c-f41b40f4eae4",
   "metadata": {},
   "source": [
    "DONE 2"
   ]
  },
  {
   "cell_type": "code",
   "execution_count": 14,
   "id": "c6caa27a-d5e7-439b-bf61-798b4ad25a4f",
   "metadata": {},
   "outputs": [],
   "source": [
    "\n",
    "#Report the top 10 subjects ranked by the score in descending order. \n",
    "#If there are ties in the scores, the subjects should be sorted by subject ID in ascending order. Reset indexes before returning the report.\n",
    "#Note: beware that a subject can appear more than once in the data\n",
    "\n"
   ]
  },
  {
   "cell_type": "code",
   "execution_count": 48,
   "id": "1789a700-5709-404e-b831-4bbcd16cf239",
   "metadata": {},
   "outputs": [],
   "source": [
    "df.drop(\"Unnamed: 0\", axis=1, inplace=True)"
   ]
  },
  {
   "cell_type": "code",
   "execution_count": 70,
   "id": "ecd086af-5350-444a-bd7f-5a0d5cdcb561",
   "metadata": {},
   "outputs": [],
   "source": [
    "sorted_df = df.sort_values(by=[\"score\", \"subject\"], ascending=[False, True])[[\"subject\", \"score\"]].reset_index(drop=True).head(10)\n"
   ]
  },
  {
   "cell_type": "code",
   "execution_count": 72,
   "id": "ba0fd8d1-db39-4cca-aebf-8158556173d5",
   "metadata": {},
   "outputs": [
    {
     "data": {
      "text/html": [
       "<div>\n",
       "<style scoped>\n",
       "    .dataframe tbody tr th:only-of-type {\n",
       "        vertical-align: middle;\n",
       "    }\n",
       "\n",
       "    .dataframe tbody tr th {\n",
       "        vertical-align: top;\n",
       "    }\n",
       "\n",
       "    .dataframe thead th {\n",
       "        text-align: right;\n",
       "    }\n",
       "</style>\n",
       "<table border=\"1\" class=\"dataframe\">\n",
       "  <thead>\n",
       "    <tr style=\"text-align: right;\">\n",
       "      <th></th>\n",
       "      <th>subject</th>\n",
       "      <th>score</th>\n",
       "    </tr>\n",
       "  </thead>\n",
       "  <tbody>\n",
       "    <tr>\n",
       "      <th>0</th>\n",
       "      <td>12</td>\n",
       "      <td>9.0</td>\n",
       "    </tr>\n",
       "    <tr>\n",
       "      <th>1</th>\n",
       "      <td>13</td>\n",
       "      <td>9.0</td>\n",
       "    </tr>\n",
       "    <tr>\n",
       "      <th>2</th>\n",
       "      <td>5</td>\n",
       "      <td>8.0</td>\n",
       "    </tr>\n",
       "    <tr>\n",
       "      <th>3</th>\n",
       "      <td>8</td>\n",
       "      <td>8.0</td>\n",
       "    </tr>\n",
       "    <tr>\n",
       "      <th>4</th>\n",
       "      <td>12</td>\n",
       "      <td>8.0</td>\n",
       "    </tr>\n",
       "    <tr>\n",
       "      <th>5</th>\n",
       "      <td>12</td>\n",
       "      <td>8.0</td>\n",
       "    </tr>\n",
       "    <tr>\n",
       "      <th>6</th>\n",
       "      <td>14</td>\n",
       "      <td>8.0</td>\n",
       "    </tr>\n",
       "    <tr>\n",
       "      <th>7</th>\n",
       "      <td>14</td>\n",
       "      <td>8.0</td>\n",
       "    </tr>\n",
       "    <tr>\n",
       "      <th>8</th>\n",
       "      <td>15</td>\n",
       "      <td>8.0</td>\n",
       "    </tr>\n",
       "    <tr>\n",
       "      <th>9</th>\n",
       "      <td>15</td>\n",
       "      <td>8.0</td>\n",
       "    </tr>\n",
       "  </tbody>\n",
       "</table>\n",
       "</div>"
      ],
      "text/plain": [
       "   subject  score\n",
       "0       12    9.0\n",
       "1       13    9.0\n",
       "2        5    8.0\n",
       "3        8    8.0\n",
       "4       12    8.0\n",
       "5       12    8.0\n",
       "6       14    8.0\n",
       "7       14    8.0\n",
       "8       15    8.0\n",
       "9       15    8.0"
      ]
     },
     "execution_count": 72,
     "metadata": {},
     "output_type": "execute_result"
    }
   ],
   "source": [
    "sorted_df"
   ]
  }
 ],
 "metadata": {
  "kernelspec": {
   "display_name": "Python 3 (ipykernel)",
   "language": "python",
   "name": "python3"
  },
  "language_info": {
   "codemirror_mode": {
    "name": "ipython",
    "version": 3
   },
   "file_extension": ".py",
   "mimetype": "text/x-python",
   "name": "python",
   "nbconvert_exporter": "python",
   "pygments_lexer": "ipython3",
   "version": "3.11.7"
  }
 },
 "nbformat": 4,
 "nbformat_minor": 5
}
